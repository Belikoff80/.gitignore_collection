{
  "nbformat": 4,
  "nbformat_minor": 0,
  "metadata": {
    "colab": {
      "provenance": [],
      "authorship_tag": "ABX9TyMQ2eJgZnnh4lCoF4rmq/TH",
      "include_colab_link": true
    },
    "kernelspec": {
      "name": "python3",
      "display_name": "Python 3"
    },
    "language_info": {
      "name": "python"
    }
  },
  "cells": [
    {
      "cell_type": "markdown",
      "metadata": {
        "id": "view-in-github",
        "colab_type": "text"
      },
      "source": [
        "<a href=\"https://colab.research.google.com/github/Belikoff80/.gitignore_collection/blob/master/Task_10_final.ipynb\" target=\"_parent\"><img src=\"https://colab.research.google.com/assets/colab-badge.svg\" alt=\"Open In Colab\"/></a>"
      ]
    },
    {
      "cell_type": "code",
      "source": [
        "from statsmodels.stats.multicomp import pairwise_tukeyhsd\n",
        "import pandas as pd\n",
        "import numpy as np\n"
      ],
      "metadata": {
        "id": "CtGfWU1Yxehp"
      },
      "execution_count": 3,
      "outputs": []
    },
    {
      "cell_type": "markdown",
      "source": [
        "Провести тест на нормальность"
      ],
      "metadata": {
        "id": "70c--ZhV2YFe"
      }
    },
    {
      "cell_type": "code",
      "execution_count": 5,
      "metadata": {
        "id": "5zv74s1wwUE5",
        "colab": {
          "base_uri": "https://localhost:8080/"
        },
        "outputId": "18952b5d-d987-41ed-9629-eae4b9e4e333"
      },
      "outputs": [
        {
          "output_type": "stream",
          "name": "stdout",
          "text": [
            "8 9 11\n"
          ]
        }
      ],
      "source": [
        "soc_hi = np.array([173, 175, 180, 178, 177, 185, 183, 182])\n",
        "hoc_hi = np.array([177, 179, 180, 188, 177, 172, 171, 184, 180])\n",
        "hard_hi = np.array([172, 173, 169, 177, 166, 180, 178, 177, 172, 166, 170])\n",
        "print(len(soc_hi), len(hoc_hi), len(hard_hi) )"
      ]
    },
    {
      "cell_type": "markdown",
      "source": [
        "Рзведочный анализ.\n",
        "Проверка выборок на нормальность распределения данных:"
      ],
      "metadata": {
        "id": "xgDbqeCL3XyY"
      }
    },
    {
      "cell_type": "code",
      "source": [
        "from scipy import stats\n",
        "# H0: normal distributions\n",
        "print(stats.shapiro(soc_hi))\n",
        "print(stats.shapiro(hoc_hi))\n",
        "print(stats.shapiro(hard_hi))"
      ],
      "metadata": {
        "colab": {
          "base_uri": "https://localhost:8080/"
        },
        "id": "sUE-4vmJ2_QH",
        "outputId": "f806b1fe-d1ea-4b1e-b86d-6bd07ffa9e37"
      },
      "execution_count": 8,
      "outputs": [
        {
          "output_type": "stream",
          "name": "stdout",
          "text": [
            "ShapiroResult(statistic=0.9775082468986511, pvalue=0.9495404362678528)\n",
            "ShapiroResult(statistic=0.9579196572303772, pvalue=0.7763139009475708)\n",
            "ShapiroResult(statistic=0.9386808276176453, pvalue=0.5051165223121643)\n"
          ]
        }
      ]
    },
    {
      "cell_type": "markdown",
      "source": [
        "^3 группы измерений нормально распределены.^"
      ],
      "metadata": {
        "id": "qErR2UVx3pvY"
      }
    },
    {
      "cell_type": "markdown",
      "source": [
        "проверка на равенство дисперсий"
      ],
      "metadata": {
        "id": "W8gGOhdn5gPP"
      }
    },
    {
      "cell_type": "code",
      "source": [
        "stats.bartlett(soc_hi, hoc_hi, hard_hi)"
      ],
      "metadata": {
        "colab": {
          "base_uri": "https://localhost:8080/"
        },
        "id": "c92uqUZn5wOb",
        "outputId": "814e1de3-f2ad-485d-af5c-00d8203ce3df"
      },
      "execution_count": 9,
      "outputs": [
        {
          "output_type": "execute_result",
          "data": {
            "text/plain": [
              "BartlettResult(statistic=0.4640521043406442, pvalue=0.7929254656083131)"
            ]
          },
          "metadata": {},
          "execution_count": 9
        }
      ]
    },
    {
      "cell_type": "markdown",
      "source": [
        "H0: не отвергается, т.е. гипотеза о равенстве дисперсий подтверждается\n",
        "\n",
        "\n",
        "\n"
      ],
      "metadata": {
        "id": "9qJ50lTQ6KHv"
      }
    },
    {
      "cell_type": "markdown",
      "source": [
        "Применим функцию дисперсионного анализа:"
      ],
      "metadata": {
        "id": "WxXe-dM-66Rn"
      }
    },
    {
      "cell_type": "code",
      "source": [
        "stats.f_oneway(soc_hi, hoc_hi, hard_hi)"
      ],
      "metadata": {
        "colab": {
          "base_uri": "https://localhost:8080/"
        },
        "id": "3oz3VwaX6Yvo",
        "outputId": "65f2b84a-e0b6-4126-a386-7de17a3b8fa0"
      },
      "execution_count": 10,
      "outputs": [
        {
          "output_type": "execute_result",
          "data": {
            "text/plain": [
              "F_onewayResult(statistic=5.500053450812596, pvalue=0.010482206918698694)"
            ]
          },
          "metadata": {},
          "execution_count": 10
        }
      ]
    },
    {
      "cell_type": "markdown",
      "source": [
        "H0: отвергается, т.е. статистически значимые различия есть"
      ],
      "metadata": {
        "id": "8PjE4qSk772O"
      }
    },
    {
      "cell_type": "markdown",
      "source": [
        "Если бы гипотиза о равенстве дисперсий не подтвердилась, возможно использовать метод крускала-уолисса:"
      ],
      "metadata": {
        "id": "Y3RVj8CX94vy"
      }
    },
    {
      "cell_type": "code",
      "source": [
        "stats.kruskal(soc_hi, hoc_hi, hard_hi)"
      ],
      "metadata": {
        "colab": {
          "base_uri": "https://localhost:8080/"
        },
        "id": "UgdDPksx7i8B",
        "outputId": "71f9ff17-0825-4d2f-d449-4608704c3e00"
      },
      "execution_count": 12,
      "outputs": [
        {
          "output_type": "execute_result",
          "data": {
            "text/plain": [
              "KruskalResult(statistic=7.897493213863828, pvalue=0.01927885061595347)"
            ]
          },
          "metadata": {},
          "execution_count": 12
        }
      ]
    },
    {
      "cell_type": "markdown",
      "source": [
        "H0: отвергается, т.е. статистически значимые различия есть"
      ],
      "metadata": {
        "id": "vwIxxoY58CRP"
      }
    }
  ]
}